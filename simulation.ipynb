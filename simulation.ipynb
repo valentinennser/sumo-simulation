{
 "cells": [
  {
   "cell_type": "code",
   "execution_count": 36,
   "metadata": {},
   "outputs": [
    {
     "name": "stdout",
     "output_type": "stream",
     "text": [
      " Retrying in 1 seconds\n",
      "⚡ Available Charging Stations: ('cS_-364911324', 'cS_4998703#0', 'cS_4998713#0')\n",
      "Closing TraCI connection properly...\n"
     ]
    }
   ],
   "source": [
    "import os\n",
    "import sys\n",
    "import psutil\n",
    "import traci\n",
    "import time\n",
    "\n",
    "# Ensure SUMO_HOME is set\n",
    "if \"SUMO_HOME\" in os.environ:\n",
    "    sys.path.append(os.path.join(os.environ[\"SUMO_HOME\"], \"tools\"))\n",
    "\n",
    "# Function to kill old SUMO processes before starting\n",
    "def kill_sumo():\n",
    "    for process in psutil.process_iter(attrs=[\"pid\", \"name\"]):\n",
    "        if \"sumo\" in process.info[\"name\"].lower():\n",
    "            print(f\"Killing SUMO process {process.info['name']} (PID: {process.info['pid']})\")\n",
    "            os.kill(process.info[\"pid\"], 9)\n",
    "\n",
    "kill_sumo()\n",
    "\n",
    "# Run simulation\n",
    "sumoBinary = \"sumo/sumo/bin/sumo-gui\"\n",
    "sumoCmd = [sumoBinary, \"-c\", \"osm.sumocfg\"]\n",
    "\n",
    "try:\n",
    "    # Increase retries to prevent connection issues\n",
    "    traci.start(sumoCmd, numRetries=20)\n",
    "\n",
    "    charging_stations = traci.chargingstation.getIDList()\n",
    "    print(f\"⚡ Available Charging Stations: {charging_stations}\")\n",
    "\n",
    "    while traci.simulation.getMinExpectedNumber() > 0:\n",
    "        traci.simulationStep()\n",
    "\n",
    "        for veh_id in traci.vehicle.getIDList():\n",
    "            try:    \n",
    "                # Battery parameters\n",
    "                battery_level = float(traci.vehicle.getParameter(veh_id, \"device.battery.actualBatteryCapacity\"))\n",
    "                max_battery = float(traci.vehicle.getParameter(veh_id, \"device.battery.maximumBatteryCapacity\"))\n",
    "\n",
    "                # Check if stationfinder is enabled\n",
    "                has_stationfinder = traci.vehicle.getParameter(veh_id, \"has.stationfinder.device\")\n",
    "\n",
    "            except traci.TraCIException as e:\n",
    "                print(f\"Error retrieving battery level for {veh_id}: {e}\")\n",
    "                \n",
    "except traci.exceptions.FatalTraCIError as e:\n",
    "    print(f\"TraCI connection lost: {e}\")\n",
    "\n",
    "except BrokenPipeError:\n",
    "    print(\"BrokenPipeError: SUMO crashed or closed unexpectedly.\")\n",
    "\n",
    "finally:\n",
    "    time.sleep(1)\n",
    "    try:\n",
    "        if traci.connection._connections:\n",
    "            print(\"Closing TraCI connection properly...\")\n",
    "            traci.close()\n",
    "    except Exception as e:\n",
    "        print(f\"TraCI was already closed: {e}\")\n"
   ]
  }
 ],
 "metadata": {
  "kernelspec": {
   "display_name": "Python 3",
   "language": "python",
   "name": "python3"
  },
  "language_info": {
   "codemirror_mode": {
    "name": "ipython",
    "version": 3
   },
   "file_extension": ".py",
   "mimetype": "text/x-python",
   "name": "python",
   "nbconvert_exporter": "python",
   "pygments_lexer": "ipython3",
   "version": "3.11.2"
  }
 },
 "nbformat": 4,
 "nbformat_minor": 2
}
